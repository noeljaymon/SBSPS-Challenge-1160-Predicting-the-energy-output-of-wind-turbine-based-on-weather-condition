{
  "nbformat": 4,
  "nbformat_minor": 0,
  "metadata": {
    "colab": {
      "name": "Ml model.ipynb",
      "provenance": [],
      "collapsed_sections": []
    },
    "kernelspec": {
      "name": "python3",
      "display_name": "Python 3"
    },
    "accelerator": "GPU"
  },
  "cells": [
    {
      "cell_type": "code",
      "metadata": {
        "id": "4kD0OTy7W2Wl",
        "colab_type": "code",
        "colab": {}
      },
      "source": [
        "import numpy as np\n",
        "import pandas as pd\n",
        "import matplotlib.pyplot as plt\n",
        "import seaborn as sns\n"
      ],
      "execution_count": 48,
      "outputs": []
    },
    {
      "cell_type": "code",
      "metadata": {
        "id": "DLXGyQxgxWNj",
        "colab_type": "code",
        "colab": {}
      },
      "source": [
        "df=pd.read_csv('/content/drive/My Drive/IBM Hack2020/T1.csv')"
      ],
      "execution_count": 49,
      "outputs": []
    },
    {
      "cell_type": "code",
      "metadata": {
        "id": "3ZpYHryyx7In",
        "colab_type": "code",
        "colab": {}
      },
      "source": [
        "df.drop(columns=df[['Date/Time','Theoretical_Power_Curve (KWh)']],inplace=True)\n",
        "y=df['LV ActivePower (kW)']\n",
        "df.drop(columns=['LV ActivePower (kW)'],axis=1,inplace=True)"
      ],
      "execution_count": 50,
      "outputs": []
    },
    {
      "cell_type": "code",
      "metadata": {
        "id": "5gS9NUaPkiHM",
        "colab_type": "code",
        "colab": {}
      },
      "source": [
        "df['Wind Direction (°)']=(df['Wind Direction (°)']-df['Wind Direction (°)'].mean())/(df['Wind Direction (°)'].std())\n",
        "df['Wind Speed (m/s)']=(df['Wind Speed (m/s)']-df['Wind Speed (m/s)'].mean())/(df['Wind Speed (m/s)'].std())"
      ],
      "execution_count": 56,
      "outputs": []
    },
    {
      "cell_type": "code",
      "metadata": {
        "id": "x993RDqYx7Qr",
        "colab_type": "code",
        "colab": {}
      },
      "source": [
        "y_train=y[:42283]\n",
        "y_test=y[42283:]\n",
        "X_train=df.iloc[:42283]\n",
        "X_test=df.iloc[42283:]"
      ],
      "execution_count": 53,
      "outputs": []
    },
    {
      "cell_type": "code",
      "metadata": {
        "id": "gnbiP24Qx7Kt",
        "colab_type": "code",
        "colab": {
          "base_uri": "https://localhost:8080/",
          "height": 208
        },
        "outputId": "40585450-8e85-4bbe-e49f-7dc61d46080a"
      },
      "source": [
        "from sklearn.tree import DecisionTreeRegressor\n",
        "from sklearn.svm import SVR\n",
        "from sklearn.linear_model import LinearRegression\n",
        "from sklearn.ensemble import RandomForestRegressor\n",
        "from xgboost import XGBRegressor\n",
        "from sklearn.metrics import accuracy_score,r2_score,mean_squared_error\n",
        "xgr=XGBRegressor()\n",
        "rf=RandomForestRegressor()\n",
        "lr=LinearRegression()\n",
        "dt=DecisionTreeRegressor()\n",
        "sm=SVR()\n",
        "\n",
        "\n",
        "model_xg=xgr.fit(X_train,y_train)\n",
        "y_xg=model_xg.predict(X_test)\n",
        "model_rf=rf.fit(X_train,y_train)\n",
        "y_rf=model_rf.predict(X_test)\n",
        "model_lr=lr.fit(X_train,y_train)\n",
        "y_lr=model_lr.predict(X_test)\n",
        "model_dt=dt.fit(X_train,y_train)\n",
        "y_dt=model_dt.predict(X_test)\n",
        "model_sm=sm.fit(X_train,y_train)\n",
        "y_sm=model_sm.predict(X_test)\n",
        "\n",
        "\n",
        "print('R2-xgb',r2_score(y_test,y_xg))\n",
        "print('RMSE-xgb',np.sqrt(mean_squared_error(y_test,y_xg)))\n",
        "\n",
        "print('R2-rf',r2_score(y_test,y_rf))\n",
        "print('RMSE-rf',np.sqrt(mean_squared_error(y_test,y_rf)))\n",
        "\n",
        "print('R2-lr',r2_score(y_test,y_lr))\n",
        "print('RMSE-lr',np.sqrt(mean_squared_error(y_test,y_lr)))\n",
        "\n",
        "print('R2-dt',r2_score(y_test,y_dt))\n",
        "print('RMSE-dt',np.sqrt(mean_squared_error(y_test,y_dt)))\n",
        "\n",
        "print('R2-svm',r2_score(y_test,y_sm))\n",
        "print('RMSE-svm',np.sqrt(mean_squared_error(y_test,y_sm)))\n",
        "\n",
        "\n",
        "\n"
      ],
      "execution_count": 54,
      "outputs": [
        {
          "output_type": "stream",
          "text": [
            "[17:20:19] WARNING: /workspace/src/objective/regression_obj.cu:152: reg:linear is now deprecated in favor of reg:squarederror.\n",
            "R2-xgb 0.8652235636163211\n",
            "RMSE-xgb 504.17752712506893\n",
            "R2-rf 0.8169912962483032\n",
            "RMSE-rf 587.5060886041389\n",
            "R2-lr 0.8184357809835172\n",
            "RMSE-lr 585.1829072925026\n",
            "R2-dt 0.7185884877047644\n",
            "RMSE-dt 728.529981763548\n",
            "R2-svm 0.8891383750923172\n",
            "RMSE-svm 457.2641138184238\n"
          ],
          "name": "stdout"
        }
      ]
    },
    {
      "cell_type": "code",
      "metadata": {
        "id": "H8ypzZ6g4N_D",
        "colab_type": "code",
        "colab": {}
      },
      "source": [
        "params={\n",
        " \"learning_rate\"    : [0.05, 0.01,0.03,0.1, 0.15, 0.2] ,\n",
        " \"n_estimators\"     : [50, 100, 150, 200, 500, 800,1000,1500] ,\n",
        " \"max_depth\"        : [ 3, 4, 5, 6, 8, 10, 12, 15,20,25],\n",
        " \"min_child_weight\" : [ 1, 3, 5, 7 ,10,15,20,25],\n",
        " \"gamma\"            : [ 0.0, 0.1, 0.2 , 0.3, 0.4 ],\n",
        " \"subsample\"        : [ 0.1, 0.2 , 0.3, 0.4,0.6,0.8,1 ],\n",
        " \"reg_lambda\"       : [ 0.0, 0.1, 0.2 , 0.3, 0.4 ,0.6,0.8,1],\n",
        " \"reg_alpha\"        : [ 0.0, 0.1, 0.2 , 0.3, 0.4 ],\n",
        " \"colsample_bytree\" : [ 0.3, 0.4, 0.5 , 0.7,0.9 ],\n",
        " \"colsample_bylevel\" : [ 0.3, 0.4, 0.5 , 0.7,0.9 ]\n",
        "    \n",
        "}"
      ],
      "execution_count": 15,
      "outputs": []
    },
    {
      "cell_type": "code",
      "metadata": {
        "id": "B4eaSqNG4OOY",
        "colab_type": "code",
        "colab": {}
      },
      "source": [
        "from sklearn.model_selection import RandomizedSearchCV, GridSearchCV"
      ],
      "execution_count": 55,
      "outputs": []
    },
    {
      "cell_type": "code",
      "metadata": {
        "id": "oPh2KEv84OP4",
        "colab_type": "code",
        "colab": {}
      },
      "source": [
        "def timer(start_time=None):\n",
        "    if not start_time:\n",
        "        start_time = datetime.now()\n",
        "        return start_time\n",
        "    elif start_time:\n",
        "        thour, temp_sec = divmod((datetime.now() - start_time).total_seconds(), 3600)\n",
        "        tmin, tsec = divmod(temp_sec, 60)\n",
        "        print('\\n Time taken: %i hours %i minutes and %s seconds.' % (thour, tmin, round(tsec, 2)))"
      ],
      "execution_count": 17,
      "outputs": []
    },
    {
      "cell_type": "code",
      "metadata": {
        "id": "xocMCTrYjusm",
        "colab_type": "code",
        "colab": {}
      },
      "source": [
        "random_search=RandomizedSearchCV(xgr,param_distributions=params_rf,n_iter=10,n_jobs=-1,cv=5,verbose=3)\n",
        "from datetime import datetime\n",
        "start_time = timer(None) # timing starts from this point for \"start_time\" variable\n",
        "random_search.fit(X_train,y_train)\n",
        "timer(start_time) # timing ends here for \"start_time\" variable\n"
      ],
      "execution_count": null,
      "outputs": []
    },
    {
      "cell_type": "code",
      "metadata": {
        "id": "WjRwsoffkEuw",
        "colab_type": "code",
        "colab": {}
      },
      "source": [
        "random_search.best_estimator_"
      ],
      "execution_count": null,
      "outputs": []
    },
    {
      "cell_type": "code",
      "metadata": {
        "id": "ZTfSP1foIw5g",
        "colab_type": "code",
        "colab": {
          "base_uri": "https://localhost:8080/",
          "height": 52
        },
        "outputId": "46f5913b-9431-495f-8c73-899cef0a9d93"
      },
      "source": [
        "xg=XGBRegressor(base_score=0.5, booster='gbtree', colsample_bylevel=0.7,\n",
        "             colsample_bynode=1, colsample_bytree=0.3, gamma=0.2,\n",
        "             importance_type='gain', learning_rate=0.03, max_delta_step=0,\n",
        "             max_depth=8, min_child_weight=25, missing=None, n_estimators=800,\n",
        "             n_jobs=1, nthread=None, objective='reg:linear', random_state=0,\n",
        "             reg_alpha=0.2, reg_lambda=0.8, scale_pos_weight=1, seed=None,\n",
        "             silent=None, subsample=0.1, verbosity=1)\n",
        "x=xgr.fit(X_train,y_train)\n",
        "y1=x.predict(X_test)\n",
        "r2_score(y_test,y1)"
      ],
      "execution_count": 29,
      "outputs": [
        {
          "output_type": "stream",
          "text": [
            "[15:49:50] WARNING: /workspace/src/objective/regression_obj.cu:152: reg:linear is now deprecated in favor of reg:squarederror.\n"
          ],
          "name": "stdout"
        },
        {
          "output_type": "execute_result",
          "data": {
            "text/plain": [
              "0.8986270012216343"
            ]
          },
          "metadata": {
            "tags": []
          },
          "execution_count": 29
        }
      ]
    },
    {
      "cell_type": "code",
      "metadata": {
        "id": "ywJiNmSwPVVq",
        "colab_type": "code",
        "colab": {}
      },
      "source": [
        "r=RandomForestRegressor()\n",
        "params_rf={\n",
        "\"n_estimators\"     : [50, 100, 150, 200, 500, 800,1000,1500] ,\n",
        " \"max_depth\"        : [ 3, 4, 5, 6, 8, 10, 12, 15,20,25]}"
      ],
      "execution_count": 40,
      "outputs": []
    },
    {
      "cell_type": "code",
      "metadata": {
        "id": "zyNCyJ214Oa8",
        "colab_type": "code",
        "colab": {}
      },
      "source": [
        "random_search=RandomizedSearchCV(rf,param_distributions=params_rf,n_iter=10,n_jobs=-1,cv=5,verbose=3)"
      ],
      "execution_count": 41,
      "outputs": []
    },
    {
      "cell_type": "code",
      "metadata": {
        "id": "zf50i-ZK4OTn",
        "colab_type": "code",
        "colab": {
          "base_uri": "https://localhost:8080/",
          "height": 176
        },
        "outputId": "4b2091e7-dd62-4db7-cfec-e14a6c5f22a3"
      },
      "source": [
        "from datetime import datetime\n",
        "# Here we go\n",
        "start_time = timer(None) # timing starts from this point for \"start_time\" variable\n",
        "random_search.fit(X_train,y_train)\n",
        "timer(start_time) # timing ends here for \"start_time\" variable"
      ],
      "execution_count": 42,
      "outputs": [
        {
          "output_type": "stream",
          "text": [
            "Fitting 5 folds for each of 10 candidates, totalling 50 fits\n"
          ],
          "name": "stdout"
        },
        {
          "output_type": "stream",
          "text": [
            "[Parallel(n_jobs=-1)]: Using backend LokyBackend with 2 concurrent workers.\n",
            "/usr/local/lib/python3.6/dist-packages/joblib/externals/loky/process_executor.py:691: UserWarning: A worker stopped while some jobs were given to the executor. This can be caused by a too short worker timeout or by a memory leak.\n",
            "  \"timeout or by a memory leak.\", UserWarning\n",
            "[Parallel(n_jobs=-1)]: Done  28 tasks      | elapsed: 12.0min\n",
            "[Parallel(n_jobs=-1)]: Done  50 out of  50 | elapsed: 16.2min finished\n"
          ],
          "name": "stderr"
        },
        {
          "output_type": "stream",
          "text": [
            "\n",
            " Time taken: 0 hours 16 minutes and 29.19 seconds.\n"
          ],
          "name": "stdout"
        }
      ]
    },
    {
      "cell_type": "code",
      "metadata": {
        "id": "3eMs-KWU4OI1",
        "colab_type": "code",
        "colab": {
          "base_uri": "https://localhost:8080/",
          "height": 138
        },
        "outputId": "8450222d-8949-4ae0-b2f4-d66f255530de"
      },
      "source": [
        "random_search.best_estimator_"
      ],
      "execution_count": 43,
      "outputs": [
        {
          "output_type": "execute_result",
          "data": {
            "text/plain": [
              "RandomForestRegressor(bootstrap=True, ccp_alpha=0.0, criterion='mse',\n",
              "                      max_depth=4, max_features='auto', max_leaf_nodes=None,\n",
              "                      max_samples=None, min_impurity_decrease=0.0,\n",
              "                      min_impurity_split=None, min_samples_leaf=1,\n",
              "                      min_samples_split=2, min_weight_fraction_leaf=0.0,\n",
              "                      n_estimators=500, n_jobs=None, oob_score=False,\n",
              "                      random_state=None, verbose=0, warm_start=False)"
            ]
          },
          "metadata": {
            "tags": []
          },
          "execution_count": 43
        }
      ]
    },
    {
      "cell_type": "code",
      "metadata": {
        "id": "qIZFkzGW4OH5",
        "colab_type": "code",
        "colab": {
          "base_uri": "https://localhost:8080/",
          "height": 34
        },
        "outputId": "9e9b7b39-a033-4921-b7a3-053e16f5abf2"
      },
      "source": [
        "sv=SVR(gamma='auto',C=100,epsilon=0.4)\n",
        "x=rf.fit(X_train,y_train)\n",
        "y1=x.predict(X_test)\n",
        "r2_score(y_test,y1)"
      ],
      "execution_count": 33,
      "outputs": [
        {
          "output_type": "execute_result",
          "data": {
            "text/plain": [
              "0.8896894942220148"
            ]
          },
          "metadata": {
            "tags": []
          },
          "execution_count": 33
        }
      ]
    }
  ]
}